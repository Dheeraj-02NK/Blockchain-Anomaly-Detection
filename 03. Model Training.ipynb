{
 "cells": [
  {
   "cell_type": "markdown",
   "metadata": {},
   "source": [
    "# Anomaly Detection in a Blockchain - Model training  \n",
    "    \n",
    "    We know that fraudulent transactions are very less in number as due to novelty of the Bitcoin network, only a limited number of transactions have been reported as fraud."
   ]
  },
  {
   "cell_type": "code",
   "execution_count": null,
   "metadata": {},
   "outputs": [],
   "source": []
  },
  {
   "cell_type": "markdown",
   "metadata": {},
   "source": [
    "## Step 1: Importing Libraries"
   ]
  },
  {
   "cell_type": "code",
   "execution_count": 1,
   "metadata": {
    "_cell_guid": "b1076dfc-b9ad-4769-8c92-a6c4dae69d19",
    "_uuid": "8f2839f25d086af736a60e9eeb907d3b93b6e0e5"
   },
   "outputs": [],
   "source": [
    "import pandas as pd\n",
    "import numpy as np\n",
    "import seaborn as sns\n",
    "import matplotlib.pyplot as plt\n",
    "%matplotlib inline\n",
    "import warnings\n",
    "warnings.filterwarnings('ignore')\n",
    "import pandas as pd\n",
    "from sklearn.preprocessing import LabelEncoder\n",
    "from sklearn.preprocessing import StandardScaler\n",
    "import numpy as np\n",
    "import warnings\n",
    "warnings.filterwarnings('ignore')\n",
    "from scipy.stats import uniform, randint\n",
    "from sklearn.model_selection import RandomizedSearchCV\n",
    "from xgboost import XGBClassifier\n",
    "from tqdm import tqdm\n",
    "from sklearn.metrics import accuracy_score, precision_score, recall_score, f1_score\n",
    "from sklearn.metrics import precision_recall_curve, average_precision_score\n",
    "from sklearn.metrics import roc_curve, auc\n",
    "from sklearn.metrics import confusion_matrix\n",
    "import tkinter as tk\n",
    "from tkinter import ttk\n",
    "from matplotlib.backends.backend_tkagg import FigureCanvasTkAgg\n",
    "from matplotlib.figure import Figure"
   ]
  },
  {
   "cell_type": "code",
   "execution_count": 2,
   "metadata": {
    "execution": {
     "iopub.execute_input": "2023-07-13T12:29:43.065368Z",
     "iopub.status.busy": "2023-07-13T12:29:43.064942Z",
     "iopub.status.idle": "2023-07-13T12:29:50.716768Z",
     "shell.execute_reply": "2023-07-13T12:29:50.715654Z",
     "shell.execute_reply.started": "2023-07-13T12:29:43.065336Z"
    }
   },
   "outputs": [],
   "source": [
    "df=pd.read_csv(\"Blockchain.csv\")"
   ]
  },
  {
   "cell_type": "code",
   "execution_count": 3,
   "metadata": {},
   "outputs": [
    {
     "data": {
      "text/html": [
       "<div>\n",
       "<style scoped>\n",
       "    .dataframe tbody tr th:only-of-type {\n",
       "        vertical-align: middle;\n",
       "    }\n",
       "\n",
       "    .dataframe tbody tr th {\n",
       "        vertical-align: top;\n",
       "    }\n",
       "\n",
       "    .dataframe thead th {\n",
       "        text-align: right;\n",
       "    }\n",
       "</style>\n",
       "<table border=\"1\" class=\"dataframe\">\n",
       "  <thead>\n",
       "    <tr style=\"text-align: right;\">\n",
       "      <th></th>\n",
       "      <th>length</th>\n",
       "      <th>weight</th>\n",
       "      <th>count</th>\n",
       "      <th>looped</th>\n",
       "      <th>neighbors</th>\n",
       "      <th>income</th>\n",
       "      <th>label</th>\n",
       "    </tr>\n",
       "  </thead>\n",
       "  <tbody>\n",
       "    <tr>\n",
       "      <th>0</th>\n",
       "      <td>18</td>\n",
       "      <td>0.008333</td>\n",
       "      <td>1</td>\n",
       "      <td>0</td>\n",
       "      <td>2</td>\n",
       "      <td>1.000500e+08</td>\n",
       "      <td>princetonCerber</td>\n",
       "    </tr>\n",
       "    <tr>\n",
       "      <th>1</th>\n",
       "      <td>44</td>\n",
       "      <td>0.000244</td>\n",
       "      <td>1</td>\n",
       "      <td>0</td>\n",
       "      <td>1</td>\n",
       "      <td>1.000000e+08</td>\n",
       "      <td>princetonLocky</td>\n",
       "    </tr>\n",
       "    <tr>\n",
       "      <th>2</th>\n",
       "      <td>0</td>\n",
       "      <td>1.000000</td>\n",
       "      <td>1</td>\n",
       "      <td>0</td>\n",
       "      <td>2</td>\n",
       "      <td>2.000000e+08</td>\n",
       "      <td>princetonCerber</td>\n",
       "    </tr>\n",
       "    <tr>\n",
       "      <th>3</th>\n",
       "      <td>72</td>\n",
       "      <td>0.003906</td>\n",
       "      <td>1</td>\n",
       "      <td>0</td>\n",
       "      <td>2</td>\n",
       "      <td>7.120000e+07</td>\n",
       "      <td>princetonCerber</td>\n",
       "    </tr>\n",
       "    <tr>\n",
       "      <th>4</th>\n",
       "      <td>144</td>\n",
       "      <td>0.072848</td>\n",
       "      <td>456</td>\n",
       "      <td>0</td>\n",
       "      <td>1</td>\n",
       "      <td>2.000000e+08</td>\n",
       "      <td>princetonLocky</td>\n",
       "    </tr>\n",
       "    <tr>\n",
       "      <th>...</th>\n",
       "      <td>...</td>\n",
       "      <td>...</td>\n",
       "      <td>...</td>\n",
       "      <td>...</td>\n",
       "      <td>...</td>\n",
       "      <td>...</td>\n",
       "      <td>...</td>\n",
       "    </tr>\n",
       "    <tr>\n",
       "      <th>2916692</th>\n",
       "      <td>0</td>\n",
       "      <td>0.111111</td>\n",
       "      <td>1</td>\n",
       "      <td>0</td>\n",
       "      <td>1</td>\n",
       "      <td>1.255809e+09</td>\n",
       "      <td>white</td>\n",
       "    </tr>\n",
       "    <tr>\n",
       "      <th>2916693</th>\n",
       "      <td>0</td>\n",
       "      <td>1.000000</td>\n",
       "      <td>1</td>\n",
       "      <td>0</td>\n",
       "      <td>1</td>\n",
       "      <td>4.409699e+07</td>\n",
       "      <td>white</td>\n",
       "    </tr>\n",
       "    <tr>\n",
       "      <th>2916694</th>\n",
       "      <td>2</td>\n",
       "      <td>12.000000</td>\n",
       "      <td>6</td>\n",
       "      <td>6</td>\n",
       "      <td>35</td>\n",
       "      <td>2.398267e+09</td>\n",
       "      <td>white</td>\n",
       "    </tr>\n",
       "    <tr>\n",
       "      <th>2916695</th>\n",
       "      <td>0</td>\n",
       "      <td>0.500000</td>\n",
       "      <td>1</td>\n",
       "      <td>0</td>\n",
       "      <td>1</td>\n",
       "      <td>1.780427e+08</td>\n",
       "      <td>white</td>\n",
       "    </tr>\n",
       "    <tr>\n",
       "      <th>2916696</th>\n",
       "      <td>144</td>\n",
       "      <td>0.073972</td>\n",
       "      <td>6800</td>\n",
       "      <td>0</td>\n",
       "      <td>2</td>\n",
       "      <td>1.123500e+08</td>\n",
       "      <td>white</td>\n",
       "    </tr>\n",
       "  </tbody>\n",
       "</table>\n",
       "<p>2916697 rows × 7 columns</p>\n",
       "</div>"
      ],
      "text/plain": [
       "         length     weight  count  looped  neighbors        income  \\\n",
       "0            18   0.008333      1       0          2  1.000500e+08   \n",
       "1            44   0.000244      1       0          1  1.000000e+08   \n",
       "2             0   1.000000      1       0          2  2.000000e+08   \n",
       "3            72   0.003906      1       0          2  7.120000e+07   \n",
       "4           144   0.072848    456       0          1  2.000000e+08   \n",
       "...         ...        ...    ...     ...        ...           ...   \n",
       "2916692       0   0.111111      1       0          1  1.255809e+09   \n",
       "2916693       0   1.000000      1       0          1  4.409699e+07   \n",
       "2916694       2  12.000000      6       6         35  2.398267e+09   \n",
       "2916695       0   0.500000      1       0          1  1.780427e+08   \n",
       "2916696     144   0.073972   6800       0          2  1.123500e+08   \n",
       "\n",
       "                   label  \n",
       "0        princetonCerber  \n",
       "1         princetonLocky  \n",
       "2        princetonCerber  \n",
       "3        princetonCerber  \n",
       "4         princetonLocky  \n",
       "...                  ...  \n",
       "2916692            white  \n",
       "2916693            white  \n",
       "2916694            white  \n",
       "2916695            white  \n",
       "2916696            white  \n",
       "\n",
       "[2916697 rows x 7 columns]"
      ]
     },
     "execution_count": 3,
     "metadata": {},
     "output_type": "execute_result"
    }
   ],
   "source": [
    "df"
   ]
  },
  {
   "cell_type": "markdown",
   "metadata": {},
   "source": [
    "## Step 2: Feature Engineering"
   ]
  },
  {
   "cell_type": "code",
   "execution_count": 4,
   "metadata": {
    "execution": {
     "iopub.execute_input": "2023-07-13T12:29:50.71891Z",
     "iopub.status.busy": "2023-07-13T12:29:50.718488Z",
     "iopub.status.idle": "2023-07-13T12:29:50.727345Z",
     "shell.execute_reply": "2023-07-13T12:29:50.726229Z",
     "shell.execute_reply.started": "2023-07-13T12:29:50.718868Z"
    }
   },
   "outputs": [
    {
     "data": {
      "text/plain": [
       "(2916697, 7)"
      ]
     },
     "execution_count": 4,
     "metadata": {},
     "output_type": "execute_result"
    }
   ],
   "source": [
    "df.shape"
   ]
  },
  {
   "cell_type": "code",
   "execution_count": 5,
   "metadata": {
    "execution": {
     "iopub.execute_input": "2023-07-13T12:29:50.730029Z",
     "iopub.status.busy": "2023-07-13T12:29:50.729662Z",
     "iopub.status.idle": "2023-07-13T12:29:50.760244Z",
     "shell.execute_reply": "2023-07-13T12:29:50.758824Z",
     "shell.execute_reply.started": "2023-07-13T12:29:50.729995Z"
    }
   },
   "outputs": [
    {
     "data": {
      "text/html": [
       "<div>\n",
       "<style scoped>\n",
       "    .dataframe tbody tr th:only-of-type {\n",
       "        vertical-align: middle;\n",
       "    }\n",
       "\n",
       "    .dataframe tbody tr th {\n",
       "        vertical-align: top;\n",
       "    }\n",
       "\n",
       "    .dataframe thead th {\n",
       "        text-align: right;\n",
       "    }\n",
       "</style>\n",
       "<table border=\"1\" class=\"dataframe\">\n",
       "  <thead>\n",
       "    <tr style=\"text-align: right;\">\n",
       "      <th></th>\n",
       "      <th>length</th>\n",
       "      <th>weight</th>\n",
       "      <th>count</th>\n",
       "      <th>looped</th>\n",
       "      <th>neighbors</th>\n",
       "      <th>income</th>\n",
       "      <th>label</th>\n",
       "    </tr>\n",
       "  </thead>\n",
       "  <tbody>\n",
       "    <tr>\n",
       "      <th>0</th>\n",
       "      <td>18</td>\n",
       "      <td>0.008333</td>\n",
       "      <td>1</td>\n",
       "      <td>0</td>\n",
       "      <td>2</td>\n",
       "      <td>100050000.0</td>\n",
       "      <td>princetonCerber</td>\n",
       "    </tr>\n",
       "    <tr>\n",
       "      <th>1</th>\n",
       "      <td>44</td>\n",
       "      <td>0.000244</td>\n",
       "      <td>1</td>\n",
       "      <td>0</td>\n",
       "      <td>1</td>\n",
       "      <td>100000000.0</td>\n",
       "      <td>princetonLocky</td>\n",
       "    </tr>\n",
       "    <tr>\n",
       "      <th>2</th>\n",
       "      <td>0</td>\n",
       "      <td>1.000000</td>\n",
       "      <td>1</td>\n",
       "      <td>0</td>\n",
       "      <td>2</td>\n",
       "      <td>200000000.0</td>\n",
       "      <td>princetonCerber</td>\n",
       "    </tr>\n",
       "    <tr>\n",
       "      <th>3</th>\n",
       "      <td>72</td>\n",
       "      <td>0.003906</td>\n",
       "      <td>1</td>\n",
       "      <td>0</td>\n",
       "      <td>2</td>\n",
       "      <td>71200000.0</td>\n",
       "      <td>princetonCerber</td>\n",
       "    </tr>\n",
       "    <tr>\n",
       "      <th>4</th>\n",
       "      <td>144</td>\n",
       "      <td>0.072848</td>\n",
       "      <td>456</td>\n",
       "      <td>0</td>\n",
       "      <td>1</td>\n",
       "      <td>200000000.0</td>\n",
       "      <td>princetonLocky</td>\n",
       "    </tr>\n",
       "  </tbody>\n",
       "</table>\n",
       "</div>"
      ],
      "text/plain": [
       "   length    weight  count  looped  neighbors       income            label\n",
       "0      18  0.008333      1       0          2  100050000.0  princetonCerber\n",
       "1      44  0.000244      1       0          1  100000000.0   princetonLocky\n",
       "2       0  1.000000      1       0          2  200000000.0  princetonCerber\n",
       "3      72  0.003906      1       0          2   71200000.0  princetonCerber\n",
       "4     144  0.072848    456       0          1  200000000.0   princetonLocky"
      ]
     },
     "execution_count": 5,
     "metadata": {},
     "output_type": "execute_result"
    }
   ],
   "source": [
    "df.head()"
   ]
  },
  {
   "cell_type": "code",
   "execution_count": 6,
   "metadata": {
    "execution": {
     "iopub.execute_input": "2023-07-13T12:29:50.762091Z",
     "iopub.status.busy": "2023-07-13T12:29:50.761654Z",
     "iopub.status.idle": "2023-07-13T12:29:51.628796Z",
     "shell.execute_reply": "2023-07-13T12:29:51.627711Z",
     "shell.execute_reply.started": "2023-07-13T12:29:50.76205Z"
    }
   },
   "outputs": [
    {
     "data": {
      "text/html": [
       "<div>\n",
       "<style scoped>\n",
       "    .dataframe tbody tr th:only-of-type {\n",
       "        vertical-align: middle;\n",
       "    }\n",
       "\n",
       "    .dataframe tbody tr th {\n",
       "        vertical-align: top;\n",
       "    }\n",
       "\n",
       "    .dataframe thead th {\n",
       "        text-align: right;\n",
       "    }\n",
       "</style>\n",
       "<table border=\"1\" class=\"dataframe\">\n",
       "  <thead>\n",
       "    <tr style=\"text-align: right;\">\n",
       "      <th></th>\n",
       "      <th>length</th>\n",
       "      <th>weight</th>\n",
       "      <th>count</th>\n",
       "      <th>looped</th>\n",
       "      <th>neighbors</th>\n",
       "      <th>income</th>\n",
       "    </tr>\n",
       "  </thead>\n",
       "  <tbody>\n",
       "    <tr>\n",
       "      <th>count</th>\n",
       "      <td>2.916697e+06</td>\n",
       "      <td>2.916697e+06</td>\n",
       "      <td>2.916697e+06</td>\n",
       "      <td>2.916697e+06</td>\n",
       "      <td>2.916697e+06</td>\n",
       "      <td>2.916697e+06</td>\n",
       "    </tr>\n",
       "    <tr>\n",
       "      <th>mean</th>\n",
       "      <td>4.500859e+01</td>\n",
       "      <td>5.455192e-01</td>\n",
       "      <td>7.216446e+02</td>\n",
       "      <td>2.385067e+02</td>\n",
       "      <td>2.206516e+00</td>\n",
       "      <td>4.464889e+09</td>\n",
       "    </tr>\n",
       "    <tr>\n",
       "      <th>std</th>\n",
       "      <td>5.898236e+01</td>\n",
       "      <td>3.674255e+00</td>\n",
       "      <td>1.689676e+03</td>\n",
       "      <td>9.663217e+02</td>\n",
       "      <td>1.791877e+01</td>\n",
       "      <td>1.626860e+11</td>\n",
       "    </tr>\n",
       "    <tr>\n",
       "      <th>min</th>\n",
       "      <td>0.000000e+00</td>\n",
       "      <td>3.606469e-94</td>\n",
       "      <td>1.000000e+00</td>\n",
       "      <td>0.000000e+00</td>\n",
       "      <td>1.000000e+00</td>\n",
       "      <td>3.000000e+07</td>\n",
       "    </tr>\n",
       "    <tr>\n",
       "      <th>25%</th>\n",
       "      <td>2.000000e+00</td>\n",
       "      <td>2.148438e-02</td>\n",
       "      <td>1.000000e+00</td>\n",
       "      <td>0.000000e+00</td>\n",
       "      <td>1.000000e+00</td>\n",
       "      <td>7.428559e+07</td>\n",
       "    </tr>\n",
       "    <tr>\n",
       "      <th>50%</th>\n",
       "      <td>8.000000e+00</td>\n",
       "      <td>2.500000e-01</td>\n",
       "      <td>1.000000e+00</td>\n",
       "      <td>0.000000e+00</td>\n",
       "      <td>2.000000e+00</td>\n",
       "      <td>1.999985e+08</td>\n",
       "    </tr>\n",
       "    <tr>\n",
       "      <th>75%</th>\n",
       "      <td>1.080000e+02</td>\n",
       "      <td>8.819482e-01</td>\n",
       "      <td>5.600000e+01</td>\n",
       "      <td>0.000000e+00</td>\n",
       "      <td>2.000000e+00</td>\n",
       "      <td>9.940000e+08</td>\n",
       "    </tr>\n",
       "    <tr>\n",
       "      <th>max</th>\n",
       "      <td>1.440000e+02</td>\n",
       "      <td>1.943749e+03</td>\n",
       "      <td>1.449700e+04</td>\n",
       "      <td>1.449600e+04</td>\n",
       "      <td>1.292000e+04</td>\n",
       "      <td>4.996440e+13</td>\n",
       "    </tr>\n",
       "  </tbody>\n",
       "</table>\n",
       "</div>"
      ],
      "text/plain": [
       "             length        weight         count        looped     neighbors  \\\n",
       "count  2.916697e+06  2.916697e+06  2.916697e+06  2.916697e+06  2.916697e+06   \n",
       "mean   4.500859e+01  5.455192e-01  7.216446e+02  2.385067e+02  2.206516e+00   \n",
       "std    5.898236e+01  3.674255e+00  1.689676e+03  9.663217e+02  1.791877e+01   \n",
       "min    0.000000e+00  3.606469e-94  1.000000e+00  0.000000e+00  1.000000e+00   \n",
       "25%    2.000000e+00  2.148438e-02  1.000000e+00  0.000000e+00  1.000000e+00   \n",
       "50%    8.000000e+00  2.500000e-01  1.000000e+00  0.000000e+00  2.000000e+00   \n",
       "75%    1.080000e+02  8.819482e-01  5.600000e+01  0.000000e+00  2.000000e+00   \n",
       "max    1.440000e+02  1.943749e+03  1.449700e+04  1.449600e+04  1.292000e+04   \n",
       "\n",
       "             income  \n",
       "count  2.916697e+06  \n",
       "mean   4.464889e+09  \n",
       "std    1.626860e+11  \n",
       "min    3.000000e+07  \n",
       "25%    7.428559e+07  \n",
       "50%    1.999985e+08  \n",
       "75%    9.940000e+08  \n",
       "max    4.996440e+13  "
      ]
     },
     "execution_count": 6,
     "metadata": {},
     "output_type": "execute_result"
    }
   ],
   "source": [
    "df.describe()"
   ]
  },
  {
   "cell_type": "code",
   "execution_count": 7,
   "metadata": {
    "execution": {
     "iopub.execute_input": "2023-07-13T12:29:51.630756Z",
     "iopub.status.busy": "2023-07-13T12:29:51.630437Z",
     "iopub.status.idle": "2023-07-13T12:29:51.862589Z",
     "shell.execute_reply": "2023-07-13T12:29:51.861736Z",
     "shell.execute_reply.started": "2023-07-13T12:29:51.630728Z"
    }
   },
   "outputs": [
    {
     "data": {
      "text/plain": [
       "label\n",
       "white                          2875284\n",
       "paduaCryptoWall                  12390\n",
       "montrealCryptoLocker              9315\n",
       "princetonCerber                   9223\n",
       "princetonLocky                    6625\n",
       "montrealCryptXXX                  2419\n",
       "montrealNoobCrypt                  483\n",
       "montrealDMALockerv3                354\n",
       "montrealDMALocker                  251\n",
       "montrealSamSam                      62\n",
       "montrealCryptoTorLocker2015         55\n",
       "montrealGlobeImposter               55\n",
       "montrealGlobev3                     34\n",
       "montrealGlobe                       32\n",
       "montrealWannaCry                    28\n",
       "montrealRazy                        13\n",
       "montrealAPT                         11\n",
       "paduaKeRanger                       10\n",
       "montrealFlyper                       9\n",
       "montrealXTPLocker                    8\n",
       "montrealXLockerv5.0                  7\n",
       "montrealVenusLocker                  7\n",
       "montrealCryptConsole                 7\n",
       "montrealEDA2                         6\n",
       "montrealJigSaw                       4\n",
       "paduaJigsaw                          2\n",
       "montrealXLocker                      1\n",
       "montrealSam                          1\n",
       "montrealComradeCircle                1\n",
       "Name: count, dtype: int64"
      ]
     },
     "execution_count": 7,
     "metadata": {},
     "output_type": "execute_result"
    }
   ],
   "source": [
    "df[\"label\"].value_counts()"
   ]
  },
  {
   "cell_type": "markdown",
   "metadata": {},
   "source": [
    "So only a small fraction of transactions are fraudulent. Our anomaly detection can work well."
   ]
  },
  {
   "cell_type": "code",
   "execution_count": 8,
   "metadata": {
    "execution": {
     "iopub.execute_input": "2023-07-13T12:29:51.864178Z",
     "iopub.status.busy": "2023-07-13T12:29:51.863809Z",
     "iopub.status.idle": "2023-07-13T12:29:52.014882Z",
     "shell.execute_reply": "2023-07-13T12:29:52.014037Z",
     "shell.execute_reply.started": "2023-07-13T12:29:51.864147Z"
    }
   },
   "outputs": [],
   "source": [
    "categorical_cols=df.select_dtypes(include=\"object\").columns"
   ]
  },
  {
   "cell_type": "code",
   "execution_count": 9,
   "metadata": {
    "execution": {
     "iopub.execute_input": "2023-07-13T12:29:52.01712Z",
     "iopub.status.busy": "2023-07-13T12:29:52.016689Z",
     "iopub.status.idle": "2023-07-13T12:29:52.10273Z",
     "shell.execute_reply": "2023-07-13T12:29:52.101809Z",
     "shell.execute_reply.started": "2023-07-13T12:29:52.017078Z"
    }
   },
   "outputs": [],
   "source": [
    "numerical_cols=df.select_dtypes(include=\"number\").columns"
   ]
  },
  {
   "cell_type": "code",
   "execution_count": 10,
   "metadata": {
    "execution": {
     "iopub.execute_input": "2023-07-13T12:29:52.104724Z",
     "iopub.status.busy": "2023-07-13T12:29:52.104298Z",
     "iopub.status.idle": "2023-07-13T12:29:53.017285Z",
     "shell.execute_reply": "2023-07-13T12:29:53.016115Z",
     "shell.execute_reply.started": "2023-07-13T12:29:52.104683Z"
    }
   },
   "outputs": [
    {
     "data": {
      "text/plain": [
       "length       0\n",
       "weight       0\n",
       "count        0\n",
       "looped       0\n",
       "neighbors    0\n",
       "income       0\n",
       "label        0\n",
       "dtype: int64"
      ]
     },
     "execution_count": 10,
     "metadata": {},
     "output_type": "execute_result"
    }
   ],
   "source": [
    "df.isnull().sum()"
   ]
  },
  {
   "cell_type": "code",
   "execution_count": 11,
   "metadata": {
    "execution": {
     "iopub.execute_input": "2023-07-13T12:29:54.70113Z",
     "iopub.status.busy": "2023-07-13T12:29:54.70079Z",
     "iopub.status.idle": "2023-07-13T12:29:54.877529Z",
     "shell.execute_reply": "2023-07-13T12:29:54.876566Z",
     "shell.execute_reply.started": "2023-07-13T12:29:54.701102Z"
    }
   },
   "outputs": [],
   "source": [
    "old_df=df.copy()"
   ]
  },
  {
   "cell_type": "code",
   "execution_count": 12,
   "metadata": {
    "execution": {
     "iopub.execute_input": "2023-07-13T12:29:54.975225Z",
     "iopub.status.busy": "2023-07-13T12:29:54.974795Z",
     "iopub.status.idle": "2023-07-13T12:29:55.103592Z",
     "shell.execute_reply": "2023-07-13T12:29:55.102583Z",
     "shell.execute_reply.started": "2023-07-13T12:29:54.975185Z"
    }
   },
   "outputs": [],
   "source": [
    "for col in df.columns[:-1]:\n",
    "    df[col]=df[col]"
   ]
  },
  {
   "cell_type": "code",
   "execution_count": 13,
   "metadata": {
    "execution": {
     "iopub.execute_input": "2023-07-13T12:29:55.105052Z",
     "iopub.status.busy": "2023-07-13T12:29:55.104731Z",
     "iopub.status.idle": "2023-07-13T12:29:55.188777Z",
     "shell.execute_reply": "2023-07-13T12:29:55.187902Z",
     "shell.execute_reply.started": "2023-07-13T12:29:55.105025Z"
    }
   },
   "outputs": [],
   "source": [
    "X=df.drop(columns=[\"label\"])\n",
    "y=df[\"label\"]"
   ]
  },
  {
   "cell_type": "code",
   "execution_count": 14,
   "metadata": {
    "execution": {
     "iopub.execute_input": "2023-07-13T12:29:55.190736Z",
     "iopub.status.busy": "2023-07-13T12:29:55.189805Z",
     "iopub.status.idle": "2023-07-13T12:29:55.197333Z",
     "shell.execute_reply": "2023-07-13T12:29:55.196304Z",
     "shell.execute_reply.started": "2023-07-13T12:29:55.1907Z"
    }
   },
   "outputs": [
    {
     "data": {
      "text/plain": [
       "Index(['length', 'weight', 'count', 'looped', 'neighbors', 'income'], dtype='object')"
      ]
     },
     "execution_count": 14,
     "metadata": {},
     "output_type": "execute_result"
    }
   ],
   "source": [
    "X.columns"
   ]
  },
  {
   "cell_type": "code",
   "execution_count": 15,
   "metadata": {
    "execution": {
     "iopub.execute_input": "2023-07-13T12:29:55.199092Z",
     "iopub.status.busy": "2023-07-13T12:29:55.198631Z",
     "iopub.status.idle": "2023-07-13T12:29:55.217259Z",
     "shell.execute_reply": "2023-07-13T12:29:55.216171Z",
     "shell.execute_reply.started": "2023-07-13T12:29:55.199059Z"
    }
   },
   "outputs": [
    {
     "data": {
      "text/html": [
       "<div>\n",
       "<style scoped>\n",
       "    .dataframe tbody tr th:only-of-type {\n",
       "        vertical-align: middle;\n",
       "    }\n",
       "\n",
       "    .dataframe tbody tr th {\n",
       "        vertical-align: top;\n",
       "    }\n",
       "\n",
       "    .dataframe thead th {\n",
       "        text-align: right;\n",
       "    }\n",
       "</style>\n",
       "<table border=\"1\" class=\"dataframe\">\n",
       "  <thead>\n",
       "    <tr style=\"text-align: right;\">\n",
       "      <th></th>\n",
       "      <th>length</th>\n",
       "      <th>weight</th>\n",
       "      <th>count</th>\n",
       "      <th>looped</th>\n",
       "      <th>neighbors</th>\n",
       "      <th>income</th>\n",
       "      <th>label</th>\n",
       "    </tr>\n",
       "  </thead>\n",
       "  <tbody>\n",
       "    <tr>\n",
       "      <th>0</th>\n",
       "      <td>18</td>\n",
       "      <td>0.008333</td>\n",
       "      <td>1</td>\n",
       "      <td>0</td>\n",
       "      <td>2</td>\n",
       "      <td>100050000.0</td>\n",
       "      <td>princetonCerber</td>\n",
       "    </tr>\n",
       "    <tr>\n",
       "      <th>1</th>\n",
       "      <td>44</td>\n",
       "      <td>0.000244</td>\n",
       "      <td>1</td>\n",
       "      <td>0</td>\n",
       "      <td>1</td>\n",
       "      <td>100000000.0</td>\n",
       "      <td>princetonLocky</td>\n",
       "    </tr>\n",
       "    <tr>\n",
       "      <th>2</th>\n",
       "      <td>0</td>\n",
       "      <td>1.000000</td>\n",
       "      <td>1</td>\n",
       "      <td>0</td>\n",
       "      <td>2</td>\n",
       "      <td>200000000.0</td>\n",
       "      <td>princetonCerber</td>\n",
       "    </tr>\n",
       "    <tr>\n",
       "      <th>3</th>\n",
       "      <td>72</td>\n",
       "      <td>0.003906</td>\n",
       "      <td>1</td>\n",
       "      <td>0</td>\n",
       "      <td>2</td>\n",
       "      <td>71200000.0</td>\n",
       "      <td>princetonCerber</td>\n",
       "    </tr>\n",
       "    <tr>\n",
       "      <th>4</th>\n",
       "      <td>144</td>\n",
       "      <td>0.072848</td>\n",
       "      <td>456</td>\n",
       "      <td>0</td>\n",
       "      <td>1</td>\n",
       "      <td>200000000.0</td>\n",
       "      <td>princetonLocky</td>\n",
       "    </tr>\n",
       "  </tbody>\n",
       "</table>\n",
       "</div>"
      ],
      "text/plain": [
       "   length    weight  count  looped  neighbors       income            label\n",
       "0      18  0.008333      1       0          2  100050000.0  princetonCerber\n",
       "1      44  0.000244      1       0          1  100000000.0   princetonLocky\n",
       "2       0  1.000000      1       0          2  200000000.0  princetonCerber\n",
       "3      72  0.003906      1       0          2   71200000.0  princetonCerber\n",
       "4     144  0.072848    456       0          1  200000000.0   princetonLocky"
      ]
     },
     "execution_count": 15,
     "metadata": {},
     "output_type": "execute_result"
    }
   ],
   "source": [
    "df.head()"
   ]
  },
  {
   "cell_type": "code",
   "execution_count": 16,
   "metadata": {
    "execution": {
     "iopub.execute_input": "2023-07-13T12:29:55.219205Z",
     "iopub.status.busy": "2023-07-13T12:29:55.218853Z",
     "iopub.status.idle": "2023-07-13T12:29:55.228915Z",
     "shell.execute_reply": "2023-07-13T12:29:55.227855Z",
     "shell.execute_reply.started": "2023-07-13T12:29:55.219177Z"
    }
   },
   "outputs": [],
   "source": [
    "new_df=pd.DataFrame()\n",
    "grouped=df.groupby(\"label\")"
   ]
  },
  {
   "cell_type": "code",
   "execution_count": 17,
   "metadata": {
    "execution": {
     "iopub.execute_input": "2023-07-13T12:29:55.231055Z",
     "iopub.status.busy": "2023-07-13T12:29:55.230576Z",
     "iopub.status.idle": "2023-07-13T12:29:55.497673Z",
     "shell.execute_reply": "2023-07-13T12:29:55.496495Z",
     "shell.execute_reply.started": "2023-07-13T12:29:55.231011Z"
    }
   },
   "outputs": [],
   "source": [
    "new_df[\"num_of_instances\"]=grouped.size()"
   ]
  },
  {
   "cell_type": "code",
   "execution_count": 18,
   "metadata": {
    "execution": {
     "iopub.execute_input": "2023-07-13T12:29:55.499515Z",
     "iopub.status.busy": "2023-07-13T12:29:55.499192Z",
     "iopub.status.idle": "2023-07-13T12:29:55.506478Z",
     "shell.execute_reply": "2023-07-13T12:29:55.505297Z",
     "shell.execute_reply.started": "2023-07-13T12:29:55.499487Z"
    }
   },
   "outputs": [
    {
     "data": {
      "text/plain": [
       "Index(['length', 'weight', 'count', 'looped', 'neighbors', 'income', 'label'], dtype='object')"
      ]
     },
     "execution_count": 18,
     "metadata": {},
     "output_type": "execute_result"
    }
   ],
   "source": [
    "df.columns"
   ]
  },
  {
   "cell_type": "code",
   "execution_count": 19,
   "metadata": {
    "execution": {
     "iopub.execute_input": "2023-07-13T12:29:55.508178Z",
     "iopub.status.busy": "2023-07-13T12:29:55.507829Z",
     "iopub.status.idle": "2023-07-13T12:29:55.695341Z",
     "shell.execute_reply": "2023-07-13T12:29:55.694242Z",
     "shell.execute_reply.started": "2023-07-13T12:29:55.508147Z"
    }
   },
   "outputs": [],
   "source": [
    "for col in X.columns:\n",
    "    new_df[f\"{col}_avg\"]=grouped[col].mean()"
   ]
  },
  {
   "cell_type": "code",
   "execution_count": 20,
   "metadata": {
    "execution": {
     "iopub.execute_input": "2023-07-13T12:29:55.69724Z",
     "iopub.status.busy": "2023-07-13T12:29:55.696869Z",
     "iopub.status.idle": "2023-07-13T12:29:55.703337Z",
     "shell.execute_reply": "2023-07-13T12:29:55.702398Z",
     "shell.execute_reply.started": "2023-07-13T12:29:55.697208Z"
    }
   },
   "outputs": [
    {
     "data": {
      "text/plain": [
       "(29, 7)"
      ]
     },
     "execution_count": 20,
     "metadata": {},
     "output_type": "execute_result"
    }
   ],
   "source": [
    "new_df.shape"
   ]
  },
  {
   "cell_type": "code",
   "execution_count": 21,
   "metadata": {
    "execution": {
     "iopub.execute_input": "2023-07-13T12:29:55.705342Z",
     "iopub.status.busy": "2023-07-13T12:29:55.705005Z",
     "iopub.status.idle": "2023-07-13T12:29:55.726568Z",
     "shell.execute_reply": "2023-07-13T12:29:55.725357Z",
     "shell.execute_reply.started": "2023-07-13T12:29:55.705306Z"
    }
   },
   "outputs": [
    {
     "data": {
      "text/html": [
       "<div>\n",
       "<style scoped>\n",
       "    .dataframe tbody tr th:only-of-type {\n",
       "        vertical-align: middle;\n",
       "    }\n",
       "\n",
       "    .dataframe tbody tr th {\n",
       "        vertical-align: top;\n",
       "    }\n",
       "\n",
       "    .dataframe thead th {\n",
       "        text-align: right;\n",
       "    }\n",
       "</style>\n",
       "<table border=\"1\" class=\"dataframe\">\n",
       "  <thead>\n",
       "    <tr style=\"text-align: right;\">\n",
       "      <th></th>\n",
       "      <th>num_of_instances</th>\n",
       "      <th>length_avg</th>\n",
       "      <th>weight_avg</th>\n",
       "      <th>count_avg</th>\n",
       "      <th>looped_avg</th>\n",
       "      <th>neighbors_avg</th>\n",
       "      <th>income_avg</th>\n",
       "    </tr>\n",
       "    <tr>\n",
       "      <th>label</th>\n",
       "      <th></th>\n",
       "      <th></th>\n",
       "      <th></th>\n",
       "      <th></th>\n",
       "      <th></th>\n",
       "      <th></th>\n",
       "      <th></th>\n",
       "    </tr>\n",
       "  </thead>\n",
       "  <tbody>\n",
       "    <tr>\n",
       "      <th>montrealAPT</th>\n",
       "      <td>11</td>\n",
       "      <td>67.636364</td>\n",
       "      <td>0.707728</td>\n",
       "      <td>2047.000000</td>\n",
       "      <td>734.090909</td>\n",
       "      <td>2.545455</td>\n",
       "      <td>3.719873e+08</td>\n",
       "    </tr>\n",
       "    <tr>\n",
       "      <th>montrealComradeCircle</th>\n",
       "      <td>1</td>\n",
       "      <td>144.000000</td>\n",
       "      <td>0.051214</td>\n",
       "      <td>1241.000000</td>\n",
       "      <td>0.000000</td>\n",
       "      <td>2.000000</td>\n",
       "      <td>2.033200e+08</td>\n",
       "    </tr>\n",
       "    <tr>\n",
       "      <th>montrealCryptConsole</th>\n",
       "      <td>7</td>\n",
       "      <td>43.428571</td>\n",
       "      <td>0.593306</td>\n",
       "      <td>831.714286</td>\n",
       "      <td>0.000000</td>\n",
       "      <td>2.000000</td>\n",
       "      <td>4.546334e+07</td>\n",
       "    </tr>\n",
       "    <tr>\n",
       "      <th>montrealCryptXXX</th>\n",
       "      <td>2419</td>\n",
       "      <td>47.447706</td>\n",
       "      <td>0.367505</td>\n",
       "      <td>791.848284</td>\n",
       "      <td>61.022323</td>\n",
       "      <td>2.011988</td>\n",
       "      <td>1.355343e+08</td>\n",
       "    </tr>\n",
       "    <tr>\n",
       "      <th>montrealCryptoLocker</th>\n",
       "      <td>9315</td>\n",
       "      <td>30.674396</td>\n",
       "      <td>0.888878</td>\n",
       "      <td>308.328824</td>\n",
       "      <td>100.981535</td>\n",
       "      <td>2.885346</td>\n",
       "      <td>1.840825e+09</td>\n",
       "    </tr>\n",
       "  </tbody>\n",
       "</table>\n",
       "</div>"
      ],
      "text/plain": [
       "                       num_of_instances  length_avg  weight_avg    count_avg  \\\n",
       "label                                                                          \n",
       "montrealAPT                          11   67.636364    0.707728  2047.000000   \n",
       "montrealComradeCircle                 1  144.000000    0.051214  1241.000000   \n",
       "montrealCryptConsole                  7   43.428571    0.593306   831.714286   \n",
       "montrealCryptXXX                   2419   47.447706    0.367505   791.848284   \n",
       "montrealCryptoLocker               9315   30.674396    0.888878   308.328824   \n",
       "\n",
       "                       looped_avg  neighbors_avg    income_avg  \n",
       "label                                                           \n",
       "montrealAPT            734.090909       2.545455  3.719873e+08  \n",
       "montrealComradeCircle    0.000000       2.000000  2.033200e+08  \n",
       "montrealCryptConsole     0.000000       2.000000  4.546334e+07  \n",
       "montrealCryptXXX        61.022323       2.011988  1.355343e+08  \n",
       "montrealCryptoLocker   100.981535       2.885346  1.840825e+09  "
      ]
     },
     "execution_count": 21,
     "metadata": {},
     "output_type": "execute_result"
    }
   ],
   "source": [
    "new_df.head()"
   ]
  },
  {
   "cell_type": "markdown",
   "metadata": {},
   "source": [
    "## Step 3: Standard Deviation"
   ]
  },
  {
   "cell_type": "code",
   "execution_count": 22,
   "metadata": {
    "execution": {
     "iopub.execute_input": "2023-07-13T12:29:55.728886Z",
     "iopub.status.busy": "2023-07-13T12:29:55.72835Z",
     "iopub.status.idle": "2023-07-13T12:29:55.944024Z",
     "shell.execute_reply": "2023-07-13T12:29:55.943171Z",
     "shell.execute_reply.started": "2023-07-13T12:29:55.728852Z"
    }
   },
   "outputs": [],
   "source": [
    "for col in X.columns:\n",
    "    new_df[f\"{col}_std\"]=grouped[col].agg(np.std).fillna(0)"
   ]
  },
  {
   "cell_type": "markdown",
   "metadata": {},
   "source": [
    "#### 3.1 Minimum"
   ]
  },
  {
   "cell_type": "code",
   "execution_count": 23,
   "metadata": {
    "execution": {
     "iopub.execute_input": "2023-07-13T12:29:55.945818Z",
     "iopub.status.busy": "2023-07-13T12:29:55.945081Z",
     "iopub.status.idle": "2023-07-13T12:29:56.086905Z",
     "shell.execute_reply": "2023-07-13T12:29:56.085834Z",
     "shell.execute_reply.started": "2023-07-13T12:29:55.945787Z"
    }
   },
   "outputs": [],
   "source": [
    "for col in X.columns:\n",
    "    new_df[f\"{col}_min\"]=grouped[col].min()"
   ]
  },
  {
   "cell_type": "markdown",
   "metadata": {},
   "source": [
    "#### 3.2 Maximum"
   ]
  },
  {
   "cell_type": "code",
   "execution_count": 24,
   "metadata": {
    "execution": {
     "iopub.execute_input": "2023-07-13T12:29:56.088456Z",
     "iopub.status.busy": "2023-07-13T12:29:56.08813Z",
     "iopub.status.idle": "2023-07-13T12:29:56.227737Z",
     "shell.execute_reply": "2023-07-13T12:29:56.226436Z",
     "shell.execute_reply.started": "2023-07-13T12:29:56.088427Z"
    }
   },
   "outputs": [],
   "source": [
    "for col in X.columns:\n",
    "    new_df[f\"{col}_max\"]=grouped[col].max()"
   ]
  },
  {
   "cell_type": "code",
   "execution_count": 25,
   "metadata": {
    "execution": {
     "iopub.execute_input": "2023-07-13T12:29:56.229427Z",
     "iopub.status.busy": "2023-07-13T12:29:56.229085Z",
     "iopub.status.idle": "2023-07-13T12:29:56.257802Z",
     "shell.execute_reply": "2023-07-13T12:29:56.256789Z",
     "shell.execute_reply.started": "2023-07-13T12:29:56.229396Z"
    }
   },
   "outputs": [
    {
     "data": {
      "text/html": [
       "<div>\n",
       "<style scoped>\n",
       "    .dataframe tbody tr th:only-of-type {\n",
       "        vertical-align: middle;\n",
       "    }\n",
       "\n",
       "    .dataframe tbody tr th {\n",
       "        vertical-align: top;\n",
       "    }\n",
       "\n",
       "    .dataframe thead th {\n",
       "        text-align: right;\n",
       "    }\n",
       "</style>\n",
       "<table border=\"1\" class=\"dataframe\">\n",
       "  <thead>\n",
       "    <tr style=\"text-align: right;\">\n",
       "      <th></th>\n",
       "      <th>label</th>\n",
       "      <th>num_of_instances</th>\n",
       "      <th>length_avg</th>\n",
       "      <th>weight_avg</th>\n",
       "      <th>count_avg</th>\n",
       "      <th>looped_avg</th>\n",
       "      <th>neighbors_avg</th>\n",
       "      <th>income_avg</th>\n",
       "      <th>length_std</th>\n",
       "      <th>weight_std</th>\n",
       "      <th>...</th>\n",
       "      <th>count_min</th>\n",
       "      <th>looped_min</th>\n",
       "      <th>neighbors_min</th>\n",
       "      <th>income_min</th>\n",
       "      <th>length_max</th>\n",
       "      <th>weight_max</th>\n",
       "      <th>count_max</th>\n",
       "      <th>looped_max</th>\n",
       "      <th>neighbors_max</th>\n",
       "      <th>income_max</th>\n",
       "    </tr>\n",
       "  </thead>\n",
       "  <tbody>\n",
       "    <tr>\n",
       "      <th>0</th>\n",
       "      <td>montrealAPT</td>\n",
       "      <td>11</td>\n",
       "      <td>67.636364</td>\n",
       "      <td>0.707728</td>\n",
       "      <td>2047.000000</td>\n",
       "      <td>734.090909</td>\n",
       "      <td>2.545455</td>\n",
       "      <td>3.719873e+08</td>\n",
       "      <td>73.145434</td>\n",
       "      <td>0.600596</td>\n",
       "      <td>...</td>\n",
       "      <td>1</td>\n",
       "      <td>0</td>\n",
       "      <td>1</td>\n",
       "      <td>57142857.0</td>\n",
       "      <td>144</td>\n",
       "      <td>1.666667</td>\n",
       "      <td>8076</td>\n",
       "      <td>8073</td>\n",
       "      <td>6</td>\n",
       "      <td>1.088599e+09</td>\n",
       "    </tr>\n",
       "    <tr>\n",
       "      <th>1</th>\n",
       "      <td>montrealComradeCircle</td>\n",
       "      <td>1</td>\n",
       "      <td>144.000000</td>\n",
       "      <td>0.051214</td>\n",
       "      <td>1241.000000</td>\n",
       "      <td>0.000000</td>\n",
       "      <td>2.000000</td>\n",
       "      <td>2.033200e+08</td>\n",
       "      <td>0.000000</td>\n",
       "      <td>0.000000</td>\n",
       "      <td>...</td>\n",
       "      <td>1241</td>\n",
       "      <td>0</td>\n",
       "      <td>2</td>\n",
       "      <td>203320001.0</td>\n",
       "      <td>144</td>\n",
       "      <td>0.051214</td>\n",
       "      <td>1241</td>\n",
       "      <td>0</td>\n",
       "      <td>2</td>\n",
       "      <td>2.033200e+08</td>\n",
       "    </tr>\n",
       "    <tr>\n",
       "      <th>2</th>\n",
       "      <td>montrealCryptConsole</td>\n",
       "      <td>7</td>\n",
       "      <td>43.428571</td>\n",
       "      <td>0.593306</td>\n",
       "      <td>831.714286</td>\n",
       "      <td>0.000000</td>\n",
       "      <td>2.000000</td>\n",
       "      <td>4.546334e+07</td>\n",
       "      <td>68.747987</td>\n",
       "      <td>0.410909</td>\n",
       "      <td>...</td>\n",
       "      <td>1</td>\n",
       "      <td>0</td>\n",
       "      <td>2</td>\n",
       "      <td>30000000.0</td>\n",
       "      <td>144</td>\n",
       "      <td>1.000000</td>\n",
       "      <td>3191</td>\n",
       "      <td>0</td>\n",
       "      <td>2</td>\n",
       "      <td>5.030000e+07</td>\n",
       "    </tr>\n",
       "    <tr>\n",
       "      <th>3</th>\n",
       "      <td>montrealCryptXXX</td>\n",
       "      <td>2419</td>\n",
       "      <td>47.447706</td>\n",
       "      <td>0.367505</td>\n",
       "      <td>791.848284</td>\n",
       "      <td>61.022323</td>\n",
       "      <td>2.011988</td>\n",
       "      <td>1.355343e+08</td>\n",
       "      <td>58.187904</td>\n",
       "      <td>0.434143</td>\n",
       "      <td>...</td>\n",
       "      <td>1</td>\n",
       "      <td>0</td>\n",
       "      <td>1</td>\n",
       "      <td>30000000.0</td>\n",
       "      <td>144</td>\n",
       "      <td>3.458951</td>\n",
       "      <td>9262</td>\n",
       "      <td>8489</td>\n",
       "      <td>15</td>\n",
       "      <td>1.080000e+09</td>\n",
       "    </tr>\n",
       "    <tr>\n",
       "      <th>4</th>\n",
       "      <td>montrealCryptoLocker</td>\n",
       "      <td>9315</td>\n",
       "      <td>30.674396</td>\n",
       "      <td>0.888878</td>\n",
       "      <td>308.328824</td>\n",
       "      <td>100.981535</td>\n",
       "      <td>2.885346</td>\n",
       "      <td>1.840825e+09</td>\n",
       "      <td>50.731602</td>\n",
       "      <td>1.555608</td>\n",
       "      <td>...</td>\n",
       "      <td>1</td>\n",
       "      <td>0</td>\n",
       "      <td>1</td>\n",
       "      <td>30000000.0</td>\n",
       "      <td>144</td>\n",
       "      <td>31.108593</td>\n",
       "      <td>6423</td>\n",
       "      <td>6418</td>\n",
       "      <td>79</td>\n",
       "      <td>4.450000e+11</td>\n",
       "    </tr>\n",
       "  </tbody>\n",
       "</table>\n",
       "<p>5 rows × 26 columns</p>\n",
       "</div>"
      ],
      "text/plain": [
       "                   label  num_of_instances  length_avg  weight_avg  \\\n",
       "0            montrealAPT                11   67.636364    0.707728   \n",
       "1  montrealComradeCircle                 1  144.000000    0.051214   \n",
       "2   montrealCryptConsole                 7   43.428571    0.593306   \n",
       "3       montrealCryptXXX              2419   47.447706    0.367505   \n",
       "4   montrealCryptoLocker              9315   30.674396    0.888878   \n",
       "\n",
       "     count_avg  looped_avg  neighbors_avg    income_avg  length_std  \\\n",
       "0  2047.000000  734.090909       2.545455  3.719873e+08   73.145434   \n",
       "1  1241.000000    0.000000       2.000000  2.033200e+08    0.000000   \n",
       "2   831.714286    0.000000       2.000000  4.546334e+07   68.747987   \n",
       "3   791.848284   61.022323       2.011988  1.355343e+08   58.187904   \n",
       "4   308.328824  100.981535       2.885346  1.840825e+09   50.731602   \n",
       "\n",
       "   weight_std  ...  count_min  looped_min  neighbors_min   income_min  \\\n",
       "0    0.600596  ...          1           0              1   57142857.0   \n",
       "1    0.000000  ...       1241           0              2  203320001.0   \n",
       "2    0.410909  ...          1           0              2   30000000.0   \n",
       "3    0.434143  ...          1           0              1   30000000.0   \n",
       "4    1.555608  ...          1           0              1   30000000.0   \n",
       "\n",
       "   length_max  weight_max  count_max  looped_max  neighbors_max    income_max  \n",
       "0         144    1.666667       8076        8073              6  1.088599e+09  \n",
       "1         144    0.051214       1241           0              2  2.033200e+08  \n",
       "2         144    1.000000       3191           0              2  5.030000e+07  \n",
       "3         144    3.458951       9262        8489             15  1.080000e+09  \n",
       "4         144   31.108593       6423        6418             79  4.450000e+11  \n",
       "\n",
       "[5 rows x 26 columns]"
      ]
     },
     "execution_count": 25,
     "metadata": {},
     "output_type": "execute_result"
    }
   ],
   "source": [
    "new_df=new_df.reset_index()\n",
    "new_df.head()"
   ]
  },
  {
   "cell_type": "markdown",
   "metadata": {},
   "source": [
    "## Step 4: Undersampling"
   ]
  },
  {
   "cell_type": "markdown",
   "metadata": {},
   "source": [
    "    We undersample the data to 200000 samples by keeping the minority samples (ransomware) and undersampling the majority (white transactions)."
   ]
  },
  {
   "cell_type": "code",
   "execution_count": 26,
   "metadata": {
    "execution": {
     "iopub.execute_input": "2023-07-13T12:29:56.259602Z",
     "iopub.status.busy": "2023-07-13T12:29:56.259274Z",
     "iopub.status.idle": "2023-07-13T12:29:56.626124Z",
     "shell.execute_reply": "2023-07-13T12:29:56.624943Z",
     "shell.execute_reply.started": "2023-07-13T12:29:56.259574Z"
    }
   },
   "outputs": [],
   "source": [
    "black_rows=df[df[\"label\"]!=\"white\"]"
   ]
  },
  {
   "cell_type": "code",
   "execution_count": 27,
   "metadata": {
    "execution": {
     "iopub.execute_input": "2023-07-13T12:29:56.632695Z",
     "iopub.status.busy": "2023-07-13T12:29:56.63235Z",
     "iopub.status.idle": "2023-07-13T12:29:57.200263Z",
     "shell.execute_reply": "2023-07-13T12:29:57.199171Z",
     "shell.execute_reply.started": "2023-07-13T12:29:56.632668Z"
    }
   },
   "outputs": [],
   "source": [
    "white_sample=df[df[\"label\"]==\"white\"].sample(n=158587,random_state=42)"
   ]
  },
  {
   "cell_type": "code",
   "execution_count": 28,
   "metadata": {
    "execution": {
     "iopub.execute_input": "2023-07-13T12:29:57.202039Z",
     "iopub.status.busy": "2023-07-13T12:29:57.20171Z",
     "iopub.status.idle": "2023-07-13T12:29:57.252806Z",
     "shell.execute_reply": "2023-07-13T12:29:57.25175Z",
     "shell.execute_reply.started": "2023-07-13T12:29:57.202013Z"
    }
   },
   "outputs": [
    {
     "data": {
      "text/html": [
       "<div>\n",
       "<style scoped>\n",
       "    .dataframe tbody tr th:only-of-type {\n",
       "        vertical-align: middle;\n",
       "    }\n",
       "\n",
       "    .dataframe tbody tr th {\n",
       "        vertical-align: top;\n",
       "    }\n",
       "\n",
       "    .dataframe thead th {\n",
       "        text-align: right;\n",
       "    }\n",
       "</style>\n",
       "<table border=\"1\" class=\"dataframe\">\n",
       "  <thead>\n",
       "    <tr style=\"text-align: right;\">\n",
       "      <th></th>\n",
       "      <th>length</th>\n",
       "      <th>weight</th>\n",
       "      <th>count</th>\n",
       "      <th>looped</th>\n",
       "      <th>neighbors</th>\n",
       "      <th>income</th>\n",
       "      <th>label</th>\n",
       "    </tr>\n",
       "  </thead>\n",
       "  <tbody>\n",
       "    <tr>\n",
       "      <th>526724</th>\n",
       "      <td>14</td>\n",
       "      <td>0.003906</td>\n",
       "      <td>1</td>\n",
       "      <td>0</td>\n",
       "      <td>2</td>\n",
       "      <td>3.216000e+09</td>\n",
       "      <td>white</td>\n",
       "    </tr>\n",
       "    <tr>\n",
       "      <th>2825235</th>\n",
       "      <td>144</td>\n",
       "      <td>0.196970</td>\n",
       "      <td>1805</td>\n",
       "      <td>0</td>\n",
       "      <td>2</td>\n",
       "      <td>5.578352e+07</td>\n",
       "      <td>white</td>\n",
       "    </tr>\n",
       "    <tr>\n",
       "      <th>7558</th>\n",
       "      <td>14</td>\n",
       "      <td>0.015625</td>\n",
       "      <td>1</td>\n",
       "      <td>0</td>\n",
       "      <td>2</td>\n",
       "      <td>6.355311e+08</td>\n",
       "      <td>montrealCryptoLocker</td>\n",
       "    </tr>\n",
       "    <tr>\n",
       "      <th>1141393</th>\n",
       "      <td>6</td>\n",
       "      <td>1.000000</td>\n",
       "      <td>1</td>\n",
       "      <td>0</td>\n",
       "      <td>2</td>\n",
       "      <td>2.925100e+08</td>\n",
       "      <td>white</td>\n",
       "    </tr>\n",
       "    <tr>\n",
       "      <th>1484054</th>\n",
       "      <td>142</td>\n",
       "      <td>0.065711</td>\n",
       "      <td>2568</td>\n",
       "      <td>0</td>\n",
       "      <td>2</td>\n",
       "      <td>1.360000e+08</td>\n",
       "      <td>white</td>\n",
       "    </tr>\n",
       "  </tbody>\n",
       "</table>\n",
       "</div>"
      ],
      "text/plain": [
       "         length    weight  count  looped  neighbors        income  \\\n",
       "526724       14  0.003906      1       0          2  3.216000e+09   \n",
       "2825235     144  0.196970   1805       0          2  5.578352e+07   \n",
       "7558         14  0.015625      1       0          2  6.355311e+08   \n",
       "1141393       6  1.000000      1       0          2  2.925100e+08   \n",
       "1484054     142  0.065711   2568       0          2  1.360000e+08   \n",
       "\n",
       "                        label  \n",
       "526724                  white  \n",
       "2825235                 white  \n",
       "7558     montrealCryptoLocker  \n",
       "1141393                 white  \n",
       "1484054                 white  "
      ]
     },
     "execution_count": 28,
     "metadata": {},
     "output_type": "execute_result"
    }
   ],
   "source": [
    "sampled_df=pd.concat([black_rows,white_sample]).sample(frac=1,random_state=50)\n",
    "sampled_df.head()"
   ]
  },
  {
   "cell_type": "markdown",
   "metadata": {},
   "source": [
    "## Step 5: Label Encoding\n",
    "    We do label encoding of:\n",
    "> * White label: 0\n",
    "> * Ransomware: 1"
   ]
  },
  {
   "cell_type": "code",
   "execution_count": 29,
   "metadata": {
    "execution": {
     "iopub.execute_input": "2023-07-13T12:29:57.254233Z",
     "iopub.status.busy": "2023-07-13T12:29:57.253898Z",
     "iopub.status.idle": "2023-07-13T12:30:09.481973Z",
     "shell.execute_reply": "2023-07-13T12:30:09.480737Z",
     "shell.execute_reply.started": "2023-07-13T12:29:57.254203Z"
    }
   },
   "outputs": [
    {
     "data": {
      "text/plain": [
       "526724     0\n",
       "2825235    0\n",
       "7558       1\n",
       "1141393    0\n",
       "1484054    0\n",
       "          ..\n",
       "1363905    0\n",
       "1934713    0\n",
       "2481475    0\n",
       "2039010    0\n",
       "880386     0\n",
       "Name: label, Length: 200000, dtype: int64"
      ]
     },
     "execution_count": 29,
     "metadata": {},
     "output_type": "execute_result"
    }
   ],
   "source": [
    "# Create a label encoder object\n",
    "label_encoder = LabelEncoder()\n",
    "\n",
    "# Encode the labels\n",
    "sampled_df['label'] = label_encoder.fit_transform(sampled_df['label'])\n",
    "\n",
    "# Map 'white' to 0 and other values to 1\n",
    "sampled_df['label'] = sampled_df['label'].apply(lambda x: 0 if x == label_encoder.transform(['white'])[0] else 1)\n",
    "\n",
    "sampled_df['label']\n"
   ]
  },
  {
   "cell_type": "markdown",
   "metadata": {},
   "source": [
    "## Step 6: Z-score Anomaly Filteration\n",
    "    We calculate the 'Z-score' and filter out the 'anomalies' as per a threshold."
   ]
  },
  {
   "cell_type": "code",
   "execution_count": 30,
   "metadata": {
    "execution": {
     "iopub.execute_input": "2023-07-13T12:30:09.484181Z",
     "iopub.status.busy": "2023-07-13T12:30:09.48343Z",
     "iopub.status.idle": "2023-07-13T12:30:09.537995Z",
     "shell.execute_reply": "2023-07-13T12:30:09.536836Z",
     "shell.execute_reply.started": "2023-07-13T12:30:09.484135Z"
    }
   },
   "outputs": [
    {
     "data": {
      "text/html": [
       "<div>\n",
       "<style scoped>\n",
       "    .dataframe tbody tr th:only-of-type {\n",
       "        vertical-align: middle;\n",
       "    }\n",
       "\n",
       "    .dataframe tbody tr th {\n",
       "        vertical-align: top;\n",
       "    }\n",
       "\n",
       "    .dataframe thead th {\n",
       "        text-align: right;\n",
       "    }\n",
       "</style>\n",
       "<table border=\"1\" class=\"dataframe\">\n",
       "  <thead>\n",
       "    <tr style=\"text-align: right;\">\n",
       "      <th></th>\n",
       "      <th>length_z_score</th>\n",
       "      <th>weight_z_score</th>\n",
       "      <th>count_z_score</th>\n",
       "      <th>looped_z_score</th>\n",
       "      <th>neighbors_z_score</th>\n",
       "      <th>income_z_score</th>\n",
       "      <th>label_z_score</th>\n",
       "    </tr>\n",
       "  </thead>\n",
       "  <tbody>\n",
       "    <tr>\n",
       "      <th>526724</th>\n",
       "      <td>-0.513441</td>\n",
       "      <td>-0.114174</td>\n",
       "      <td>-0.424426</td>\n",
       "      <td>-0.234473</td>\n",
       "      <td>-0.009561</td>\n",
       "      <td>-0.004920</td>\n",
       "      <td>-0.511015</td>\n",
       "    </tr>\n",
       "    <tr>\n",
       "      <th>2825235</th>\n",
       "      <td>1.695481</td>\n",
       "      <td>-0.075626</td>\n",
       "      <td>0.677535</td>\n",
       "      <td>-0.234473</td>\n",
       "      <td>-0.009561</td>\n",
       "      <td>-0.028981</td>\n",
       "      <td>-0.511015</td>\n",
       "    </tr>\n",
       "    <tr>\n",
       "      <th>7558</th>\n",
       "      <td>-0.513441</td>\n",
       "      <td>-0.111834</td>\n",
       "      <td>-0.424426</td>\n",
       "      <td>-0.234473</td>\n",
       "      <td>-0.009561</td>\n",
       "      <td>-0.024567</td>\n",
       "      <td>1.956881</td>\n",
       "    </tr>\n",
       "    <tr>\n",
       "      <th>1141393</th>\n",
       "      <td>-0.649374</td>\n",
       "      <td>0.084711</td>\n",
       "      <td>-0.424426</td>\n",
       "      <td>-0.234473</td>\n",
       "      <td>-0.009561</td>\n",
       "      <td>-0.027178</td>\n",
       "      <td>-0.511015</td>\n",
       "    </tr>\n",
       "    <tr>\n",
       "      <th>1484054</th>\n",
       "      <td>1.661498</td>\n",
       "      <td>-0.101834</td>\n",
       "      <td>1.143608</td>\n",
       "      <td>-0.234473</td>\n",
       "      <td>-0.009561</td>\n",
       "      <td>-0.028370</td>\n",
       "      <td>-0.511015</td>\n",
       "    </tr>\n",
       "  </tbody>\n",
       "</table>\n",
       "</div>"
      ],
      "text/plain": [
       "         length_z_score  weight_z_score  count_z_score  looped_z_score  \\\n",
       "526724        -0.513441       -0.114174      -0.424426       -0.234473   \n",
       "2825235        1.695481       -0.075626       0.677535       -0.234473   \n",
       "7558          -0.513441       -0.111834      -0.424426       -0.234473   \n",
       "1141393       -0.649374        0.084711      -0.424426       -0.234473   \n",
       "1484054        1.661498       -0.101834       1.143608       -0.234473   \n",
       "\n",
       "         neighbors_z_score  income_z_score  label_z_score  \n",
       "526724           -0.009561       -0.004920      -0.511015  \n",
       "2825235          -0.009561       -0.028981      -0.511015  \n",
       "7558             -0.009561       -0.024567       1.956881  \n",
       "1141393          -0.009561       -0.027178      -0.511015  \n",
       "1484054          -0.009561       -0.028370      -0.511015  "
      ]
     },
     "execution_count": 30,
     "metadata": {},
     "output_type": "execute_result"
    }
   ],
   "source": [
    "z_score_df=pd.DataFrame()\n",
    "for col in sampled_df.columns:\n",
    "    z_score_df[f\"{col}_z_score\"]=(sampled_df[col]-sampled_df[col].mean())/sampled_df[col].std()\n",
    "z_score_df.head()"
   ]
  },
  {
   "cell_type": "code",
   "execution_count": 31,
   "metadata": {
    "execution": {
     "iopub.execute_input": "2023-07-13T12:30:09.539713Z",
     "iopub.status.busy": "2023-07-13T12:30:09.539369Z",
     "iopub.status.idle": "2023-07-13T12:30:11.046155Z",
     "shell.execute_reply": "2023-07-13T12:30:11.045052Z",
     "shell.execute_reply.started": "2023-07-13T12:30:09.539682Z"
    }
   },
   "outputs": [
    {
     "data": {
      "text/html": [
       "<div>\n",
       "<style scoped>\n",
       "    .dataframe tbody tr th:only-of-type {\n",
       "        vertical-align: middle;\n",
       "    }\n",
       "\n",
       "    .dataframe tbody tr th {\n",
       "        vertical-align: top;\n",
       "    }\n",
       "\n",
       "    .dataframe thead th {\n",
       "        text-align: right;\n",
       "    }\n",
       "</style>\n",
       "<table border=\"1\" class=\"dataframe\">\n",
       "  <thead>\n",
       "    <tr style=\"text-align: right;\">\n",
       "      <th></th>\n",
       "      <th>length_z_score</th>\n",
       "      <th>weight_z_score</th>\n",
       "      <th>count_z_score</th>\n",
       "      <th>looped_z_score</th>\n",
       "      <th>neighbors_z_score</th>\n",
       "      <th>income_z_score</th>\n",
       "      <th>label_z_score</th>\n",
       "    </tr>\n",
       "  </thead>\n",
       "  <tbody>\n",
       "    <tr>\n",
       "      <th>526724</th>\n",
       "      <td>-0.513441</td>\n",
       "      <td>-0.114174</td>\n",
       "      <td>-0.424426</td>\n",
       "      <td>-0.234473</td>\n",
       "      <td>-0.009561</td>\n",
       "      <td>-0.004920</td>\n",
       "      <td>-0.511015</td>\n",
       "    </tr>\n",
       "    <tr>\n",
       "      <th>2825235</th>\n",
       "      <td>1.695481</td>\n",
       "      <td>-0.075626</td>\n",
       "      <td>0.677535</td>\n",
       "      <td>-0.234473</td>\n",
       "      <td>-0.009561</td>\n",
       "      <td>-0.028981</td>\n",
       "      <td>-0.511015</td>\n",
       "    </tr>\n",
       "    <tr>\n",
       "      <th>7558</th>\n",
       "      <td>-0.513441</td>\n",
       "      <td>-0.111834</td>\n",
       "      <td>-0.424426</td>\n",
       "      <td>-0.234473</td>\n",
       "      <td>-0.009561</td>\n",
       "      <td>-0.024567</td>\n",
       "      <td>1.956881</td>\n",
       "    </tr>\n",
       "    <tr>\n",
       "      <th>1141393</th>\n",
       "      <td>-0.649374</td>\n",
       "      <td>0.084711</td>\n",
       "      <td>-0.424426</td>\n",
       "      <td>-0.234473</td>\n",
       "      <td>-0.009561</td>\n",
       "      <td>-0.027178</td>\n",
       "      <td>-0.511015</td>\n",
       "    </tr>\n",
       "    <tr>\n",
       "      <th>1484054</th>\n",
       "      <td>1.661498</td>\n",
       "      <td>-0.101834</td>\n",
       "      <td>1.143608</td>\n",
       "      <td>-0.234473</td>\n",
       "      <td>-0.009561</td>\n",
       "      <td>-0.028370</td>\n",
       "      <td>-0.511015</td>\n",
       "    </tr>\n",
       "  </tbody>\n",
       "</table>\n",
       "</div>"
      ],
      "text/plain": [
       "         length_z_score  weight_z_score  count_z_score  looped_z_score  \\\n",
       "526724        -0.513441       -0.114174      -0.424426       -0.234473   \n",
       "2825235        1.695481       -0.075626       0.677535       -0.234473   \n",
       "7558          -0.513441       -0.111834      -0.424426       -0.234473   \n",
       "1141393       -0.649374        0.084711      -0.424426       -0.234473   \n",
       "1484054        1.661498       -0.101834       1.143608       -0.234473   \n",
       "\n",
       "         neighbors_z_score  income_z_score  label_z_score  \n",
       "526724           -0.009561       -0.004920      -0.511015  \n",
       "2825235          -0.009561       -0.028981      -0.511015  \n",
       "7558             -0.009561       -0.024567       1.956881  \n",
       "1141393          -0.009561       -0.027178      -0.511015  \n",
       "1484054          -0.009561       -0.028370      -0.511015  "
      ]
     },
     "execution_count": 31,
     "metadata": {},
     "output_type": "execute_result"
    }
   ],
   "source": [
    "import pandas as pd\n",
    "\n",
    "# Filter the columns based on the condition\n",
    "filtered_df = z_score_df[z_score_df.apply(lambda row: all(-3 <= val <= 3 for val in row), axis=1)]\n",
    "\n",
    "# Display the filtered columns' data\n",
    "filtered_df.head()\n"
   ]
  },
  {
   "cell_type": "markdown",
   "metadata": {},
   "source": [
    "## Step 7: Train Test Split\n",
    "> * Training data: 66% \n",
    "> * Test data: 33%"
   ]
  },
  {
   "cell_type": "code",
   "execution_count": 32,
   "metadata": {
    "execution": {
     "iopub.execute_input": "2023-07-13T12:30:11.04783Z",
     "iopub.status.busy": "2023-07-13T12:30:11.047503Z",
     "iopub.status.idle": "2023-07-13T12:30:11.057633Z",
     "shell.execute_reply": "2023-07-13T12:30:11.05617Z",
     "shell.execute_reply.started": "2023-07-13T12:30:11.047802Z"
    }
   },
   "outputs": [],
   "source": [
    "X=sampled_df.drop(\"label\",axis=1)\n",
    "y=(sampled_df[\"label\"]>0).astype('int')"
   ]
  },
  {
   "cell_type": "code",
   "execution_count": 33,
   "metadata": {
    "execution": {
     "iopub.execute_input": "2023-07-13T12:30:11.059231Z",
     "iopub.status.busy": "2023-07-13T12:30:11.058859Z",
     "iopub.status.idle": "2023-07-13T12:30:11.203875Z",
     "shell.execute_reply": "2023-07-13T12:30:11.202731Z",
     "shell.execute_reply.started": "2023-07-13T12:30:11.059201Z"
    }
   },
   "outputs": [],
   "source": [
    "from sklearn.model_selection import train_test_split\n",
    "X_train, X_test,y_train, y_test = train_test_split(X,y ,\n",
    "                                   random_state=42, \n",
    "                                   test_size=0.33, \n",
    "                                   shuffle=True)\n",
    "  "
   ]
  },
  {
   "cell_type": "markdown",
   "metadata": {},
   "source": [
    "## Step 8: Standardization\n",
    "    We perform 'normalization' on the train data and then scale test data accordingly."
   ]
  },
  {
   "cell_type": "code",
   "execution_count": 34,
   "metadata": {
    "execution": {
     "iopub.execute_input": "2023-07-13T12:30:11.205455Z",
     "iopub.status.busy": "2023-07-13T12:30:11.205137Z",
     "iopub.status.idle": "2023-07-13T12:30:11.231477Z",
     "shell.execute_reply": "2023-07-13T12:30:11.230363Z",
     "shell.execute_reply.started": "2023-07-13T12:30:11.205427Z"
    }
   },
   "outputs": [],
   "source": [
    "scaler=StandardScaler()\n",
    "scaler.fit(X_train)\n",
    "\n",
    "X_train_scaled=scaler.transform(X_train)\n",
    "X_test_scaled=scaler.transform(X_test)\n",
    "\n",
    "X_train_scaled=pd.DataFrame(X_train_scaled,columns=X_train.columns)\n",
    "X_test_scaled=pd.DataFrame(X_test_scaled,columns=X_test.columns)"
   ]
  },
  {
   "cell_type": "markdown",
   "metadata": {},
   "source": [
    "## Step 9: Model Training\n",
    "\n",
    "    We use the 'XGBoost Classifier' to train on our dataset. \n",
    "    'Random search' is performed to optimize the hyperparameters of the classifier.\n",
    "    \n",
    "    Note: This might take few minutes to run."
   ]
  },
  {
   "cell_type": "code",
   "execution_count": 35,
   "metadata": {},
   "outputs": [
    {
     "name": "stdout",
     "output_type": "stream",
     "text": [
      "Best parameters found:  {'colsample_bytree': 0.8324380584196349, 'learning_rate': 0.08906413602848162, 'max_depth': 7, 'n_estimators': 650, 'subsample': 0.9872174241197184}\n",
      "Best score:  0.8403134328358209\n"
     ]
    }
   ],
   "source": [
    "# Define the XGBoost classifier\n",
    "model = XGBClassifier()\n",
    "\n",
    "# Define the hyperparameter search space\n",
    "param_space = {\n",
    "    'n_estimators': randint(100, 1000),\n",
    "    'max_depth': randint(1, 10),\n",
    "    'learning_rate': uniform(0.01, 0.3),\n",
    "    'subsample': uniform(0.6, 0.4),\n",
    "    'colsample_bytree': uniform(0.6, 0.4)\n",
    "}\n",
    "\n",
    "# Perform random search\n",
    "random_search = RandomizedSearchCV(model, param_distributions=param_space, n_iter=10, cv=5)\n",
    "random_search.fit(X_train_scaled, y_train)  # Pass the original NumPy arrays\n",
    "\n",
    "# Print the best parameters and score\n",
    "print(\"Best parameters found: \", random_search.best_params_)\n",
    "print(\"Best score: \", random_search.best_score_)"
   ]
  },
  {
   "cell_type": "markdown",
   "metadata": {},
   "source": [
    "## Step 10: Evaluation\n",
    "    We use the following metrics for evaluation:\n",
    "> * accuracy\n",
    "> * precision\n",
    "> * recall\n",
    "> * f1 score"
   ]
  },
  {
   "cell_type": "code",
   "execution_count": 36,
   "metadata": {
    "execution": {
     "iopub.status.busy": "2023-07-13T12:51:19.312686Z",
     "iopub.status.idle": "2023-07-13T12:51:19.313341Z",
     "shell.execute_reply": "2023-07-13T12:51:19.313079Z",
     "shell.execute_reply.started": "2023-07-13T12:51:19.31305Z"
    }
   },
   "outputs": [],
   "source": [
    "# Get the best model from random search\n",
    "best_model = random_search.best_estimator_\n",
    "\n",
    "# Predict on the test set\n",
    "y_pred = best_model.predict(X_test_scaled)"
   ]
  },
  {
   "cell_type": "code",
   "execution_count": 37,
   "metadata": {},
   "outputs": [],
   "source": [
    "# Calculate the evaluation metrics\n",
    "accuracy = accuracy_score(y_test, y_pred)\n",
    "precision = precision_score(y_test, y_pred)\n",
    "recall = recall_score(y_test, y_pred)\n",
    "f1 = f1_score(y_test, y_pred)"
   ]
  },
  {
   "cell_type": "code",
   "execution_count": 38,
   "metadata": {
    "scrolled": true
   },
   "outputs": [
    {
     "name": "stdout",
     "output_type": "stream",
     "text": [
      "Accuracy: 0.84\n",
      "Precision: 0.69\n",
      "Recall: 0.42\n",
      "F1 Score: 0.52\n"
     ]
    }
   ],
   "source": [
    "# Calculate the evaluation metrics\n",
    "print(f\"Accuracy: {accuracy:.2f}\")\n",
    "print(f\"Precision: {precision:.2f}\")\n",
    "print(f\"Recall: {recall:.2f}\")\n",
    "print(f\"F1 Score: {f1:.2f}\")"
   ]
  },
  {
   "cell_type": "markdown",
   "metadata": {},
   "source": [
    "## Step 11: Evaluation Matrix"
   ]
  },
  {
   "cell_type": "code",
   "execution_count": 39,
   "metadata": {},
   "outputs": [],
   "source": [
    "# Assuming you have your XGBoost classifier already trained and predictions made as 'y_pred_prob'\n",
    "y_pred_prob = random_search.predict_proba(X_test_scaled)[:, 1]  # Assuming 'random_search' is your XGBoost classifier"
   ]
  },
  {
   "cell_type": "code",
   "execution_count": 40,
   "metadata": {},
   "outputs": [],
   "source": [
    "# Calculate the precision-recall curve\n",
    "precision, recall, _ = precision_recall_curve(y_test, y_pred_prob)"
   ]
  },
  {
   "cell_type": "code",
   "execution_count": 41,
   "metadata": {},
   "outputs": [],
   "source": [
    "# Calculate the ROC curve\n",
    "fpr, tpr, _ = roc_curve(y_test, y_pred_prob)"
   ]
  },
  {
   "cell_type": "code",
   "execution_count": 42,
   "metadata": {},
   "outputs": [],
   "source": [
    "# Calculate the area under the precision-recall curve (AUC-PR) and ROC curve (AUC-ROC)\n",
    "auc_pr = auc(recall, precision)\n",
    "auc_roc = auc(fpr, tpr)"
   ]
  },
  {
   "cell_type": "code",
   "execution_count": 43,
   "metadata": {},
   "outputs": [
    {
     "data": {
      "image/png": "[encoded data removed]",
      "text/plain": [
       "<Figure size 500x400 with 1 Axes>"
      ]
     },
     "metadata": {},
     "output_type": "display_data"
    }
   ],
   "source": [
    "# Plot the ROC curve\n",
    "plt.figure(figsize=(5, 4))\n",
    "plt.plot(fpr, tpr, color='darkorange', lw=2, label='ROC curve (AUC = %0.2f)' % auc_roc)\n",
    "plt.plot([0, 1], [0, 1], color='navy', lw=2, linestyle='--')\n",
    "plt.xlabel('False Positive Rate')\n",
    "plt.ylabel('True Positive Rate')\n",
    "plt.title('ROC Curve')\n",
    "plt.legend(loc='best')\n",
    "plt.show()"
   ]
  },
  {
   "cell_type": "code",
   "execution_count": 73,
   "metadata": {},
   "outputs": [
    {
     "name": "stdout",
     "output_type": "stream",
     "text": [
      "---------------------------------------------\n",
      "                Model Report\n",
      "---------------------------------------------\n",
      "Accuracy: 0.84\n",
      "Precision: 0.69\n",
      "Recall: 0.42\n",
      "F1 Score: 0.52\n",
      "\n",
      "\n",
      "Report: This means that your model is able to \n",
      "identify anomalous transactions with a high \n",
      "degree of accuracy, while also being able to \n",
      "minimize false positives.\n"
     ]
    }
   ],
   "source": [
    "# Calculate the evaluation metrics\n",
    "accuracy = accuracy_score(y_test, y_pred)\n",
    "precision = precision_score(y_test, y_pred)\n",
    "recall = recall_score(y_test, y_pred)\n",
    "f1 = f1_score(y_test, y_pred)\n",
    "\n",
    "# Calculate the evaluation metrics\n",
    "print('---------------------------------------------')\n",
    "print('                Model Report')\n",
    "print('---------------------------------------------')\n",
    "\n",
    "print(f\"Accuracy: {accuracy:.2f}\")\n",
    "print(f\"Precision: {precision:.2f}\")\n",
    "print(f\"Recall: {recall:.2f}\")\n",
    "print(f\"F1 Score: {f1:.2f}\")\n",
    "\n",
    "print('\\n\\nReport: This means that your model is able to \\nidentify anomalous transactions with a high \\ndegree of accuracy, while also being able to \\nminimize false positives.')"
   ]
  },
  {
   "cell_type": "code",
   "execution_count": 49,
   "metadata": {},
   "outputs": [
    {
     "ename": "ValueError",
     "evalue": "too many values to unpack (expected 2)",
     "output_type": "error",
     "traceback": [
      "\u001b[1;31m---------------------------------------------------------------------------\u001b[0m",
      "\u001b[1;31mValueError\u001b[0m                                Traceback (most recent call last)",
      "Cell \u001b[1;32mIn[49], line 14\u001b[0m\n\u001b[0;32m     11\u001b[0m f1 \u001b[38;5;241m=\u001b[39m \u001b[38;5;241m0.52\u001b[39m\n\u001b[0;32m     13\u001b[0m \u001b[38;5;66;03m# Calculate ROC curve (replace these with your actual values)\u001b[39;00m\n\u001b[1;32m---> 14\u001b[0m fpr, tpr \u001b[38;5;241m=\u001b[39m roc_curve(y_test, y_pred)\n\u001b[0;32m     15\u001b[0m auc_roc \u001b[38;5;241m=\u001b[39m auc(fpr, tpr)\n\u001b[0;32m     17\u001b[0m \u001b[38;5;66;03m# Create a tkinter window\u001b[39;00m\n",
      "\u001b[1;31mValueError\u001b[0m: too many values to unpack (expected 2)"
     ]
    }
   ],
   "source": []
  },
  {
   "cell_type": "code",
   "execution_count": null,
   "metadata": {},
   "outputs": [],
   "source": []
  }
 ],
 "metadata": {
  "kernelspec": {
   "display_name": "Python 3 (ipykernel)",
   "language": "python",
   "name": "python3"
  },
  "language_info": {
   "codemirror_mode": {
    "name": "ipython",
    "version": 3
   },
   "file_extension": ".py",
   "mimetype": "text/x-python",
   "name": "python",
   "nbconvert_exporter": "python",
   "pygments_lexer": "ipython3",
   "version": "3.9.18"
  }
 },
 "nbformat": 4,
 "nbformat_minor": 4
}
